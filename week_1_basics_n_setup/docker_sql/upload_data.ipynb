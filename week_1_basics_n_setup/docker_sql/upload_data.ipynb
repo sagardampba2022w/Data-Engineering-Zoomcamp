{
 "cells": [
  {
   "cell_type": "code",
   "execution_count": 1,
   "id": "0046e22e-cbe2-416c-b90a-83575578b78b",
   "metadata": {},
   "outputs": [],
   "source": [
    "import pandas as pd\n"
   ]
  },
  {
   "cell_type": "code",
   "execution_count": 3,
   "id": "f0581138-fe51-438e-9889-b96ddca85a80",
   "metadata": {},
   "outputs": [
    {
     "data": {
      "text/plain": [
       "'2.2.3'"
      ]
     },
     "execution_count": 3,
     "metadata": {},
     "output_type": "execute_result"
    }
   ],
   "source": [
    "pd.__version__"
   ]
  },
  {
   "cell_type": "code",
   "execution_count": 4,
   "id": "e14add94-6242-4c06-b8de-cfd23bdea15b",
   "metadata": {},
   "outputs": [
    {
     "name": "stdout",
     "output_type": "stream",
     "text": [
      "--2025-01-16 21:13:26--  https://d37ci6vzurychx.cloudfront.net/trip-data/yellow_tripdata_2024-01.parquet\n",
      "Resolving d37ci6vzurychx.cloudfront.net (d37ci6vzurychx.cloudfront.net)... 3.164.82.197, 3.164.82.40, 3.164.82.160, ...\n",
      "connected. to d37ci6vzurychx.cloudfront.net (d37ci6vzurychx.cloudfront.net)|3.164.82.197|:443... \n",
      "HTTP request sent, awaiting response... 200 OK\n",
      "Length: 49961641 (48M) [binary/octet-stream]\n",
      "Saving to: ‘yellow_tripdata_2024-01.parquet’\n",
      "\n",
      "yellow_tripdata_202 100%[===================>]  47.65M  21.3MB/s    in 2.2s    \n",
      "\n",
      "2025-01-16 21:13:29 (21.3 MB/s) - ‘yellow_tripdata_2024-01.parquet’ saved [49961641/49961641]\n",
      "\n"
     ]
    }
   ],
   "source": [
    "!wget https://d37ci6vzurychx.cloudfront.net/trip-data/yellow_tripdata_2024-01.parquet"
   ]
  },
  {
   "cell_type": "code",
   "execution_count": null,
   "id": "e2def68a-4d98-45c2-8675-ac0dc41ef002",
   "metadata": {},
   "outputs": [],
   "source": []
  }
 ],
 "metadata": {
  "kernelspec": {
   "display_name": "Python 3 (ipykernel)",
   "language": "python",
   "name": "python3"
  },
  "language_info": {
   "codemirror_mode": {
    "name": "ipython",
    "version": 3
   },
   "file_extension": ".py",
   "mimetype": "text/x-python",
   "name": "python",
   "nbconvert_exporter": "python",
   "pygments_lexer": "ipython3",
   "version": "3.12.1"
  }
 },
 "nbformat": 4,
 "nbformat_minor": 5
}
